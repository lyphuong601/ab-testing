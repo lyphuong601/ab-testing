{
 "cells": [
  {
   "attachments": {},
   "cell_type": "markdown",
   "metadata": {},
   "source": [
    "## A/B Testing: Improving User Retention\n",
    "\n",
    "#### 1. Import package and load data"
   ]
  },
  {
   "cell_type": "code",
   "execution_count": 6,
   "metadata": {},
   "outputs": [],
   "source": [
    "import pandas as pd\n",
    "import matplotlib.pyplot as plt\n",
    "from statsmodels.stats import power as pwr\n",
    "from statsmodels.stats.proportion import proportion_confint, proportions_ztest\n",
    "import statsmodels.stats.api as sms"
   ]
  },
  {
   "cell_type": "code",
   "execution_count": 7,
   "metadata": {},
   "outputs": [
    {
     "data": {
      "text/html": [
       "<div>\n",
       "<style scoped>\n",
       "    .dataframe tbody tr th:only-of-type {\n",
       "        vertical-align: middle;\n",
       "    }\n",
       "\n",
       "    .dataframe tbody tr th {\n",
       "        vertical-align: top;\n",
       "    }\n",
       "\n",
       "    .dataframe thead th {\n",
       "        text-align: right;\n",
       "    }\n",
       "</style>\n",
       "<table border=\"1\" class=\"dataframe\">\n",
       "  <thead>\n",
       "    <tr style=\"text-align: right;\">\n",
       "      <th></th>\n",
       "      <th>userid</th>\n",
       "      <th>version</th>\n",
       "      <th>sum_gamerounds</th>\n",
       "      <th>retention_1</th>\n",
       "      <th>retention_7</th>\n",
       "    </tr>\n",
       "  </thead>\n",
       "  <tbody>\n",
       "    <tr>\n",
       "      <th>0</th>\n",
       "      <td>116</td>\n",
       "      <td>gate_30</td>\n",
       "      <td>3</td>\n",
       "      <td>False</td>\n",
       "      <td>False</td>\n",
       "    </tr>\n",
       "    <tr>\n",
       "      <th>1</th>\n",
       "      <td>337</td>\n",
       "      <td>gate_30</td>\n",
       "      <td>38</td>\n",
       "      <td>True</td>\n",
       "      <td>False</td>\n",
       "    </tr>\n",
       "    <tr>\n",
       "      <th>2</th>\n",
       "      <td>377</td>\n",
       "      <td>gate_40</td>\n",
       "      <td>165</td>\n",
       "      <td>True</td>\n",
       "      <td>False</td>\n",
       "    </tr>\n",
       "    <tr>\n",
       "      <th>3</th>\n",
       "      <td>483</td>\n",
       "      <td>gate_40</td>\n",
       "      <td>1</td>\n",
       "      <td>False</td>\n",
       "      <td>False</td>\n",
       "    </tr>\n",
       "    <tr>\n",
       "      <th>4</th>\n",
       "      <td>488</td>\n",
       "      <td>gate_40</td>\n",
       "      <td>179</td>\n",
       "      <td>True</td>\n",
       "      <td>True</td>\n",
       "    </tr>\n",
       "  </tbody>\n",
       "</table>\n",
       "</div>"
      ],
      "text/plain": [
       "   userid  version  sum_gamerounds  retention_1  retention_7\n",
       "0     116  gate_30               3        False        False\n",
       "1     337  gate_30              38         True        False\n",
       "2     377  gate_40             165         True        False\n",
       "3     483  gate_40               1        False        False\n",
       "4     488  gate_40             179         True         True"
      ]
     },
     "execution_count": 7,
     "metadata": {},
     "output_type": "execute_result"
    }
   ],
   "source": [
    "df = pd.read_csv(\"../data/raw/cookie_cats.csv\")\n",
    "df.head()"
   ]
  },
  {
   "attachments": {},
   "cell_type": "markdown",
   "metadata": {},
   "source": [
    "#### 2. Treatment and control group & guardrail check"
   ]
  },
  {
   "cell_type": "code",
   "execution_count": 8,
   "metadata": {},
   "outputs": [],
   "source": [
    "df_control = df.loc[df['version']=='gate_30']\n",
    "df_test = df[df['version']=='gate_40']\n",
    "cont_size = len(df_control['userid'])\n",
    "test_size = len(df_test['userid'])\n",
    "n = len(df)"
   ]
  },
  {
   "cell_type": "code",
   "execution_count": 9,
   "metadata": {},
   "outputs": [
    {
     "name": "stdout",
     "output_type": "stream",
     "text": [
      "Does the control group proportion 0.49562585237667567 lie within (0.49673681790335855, 0.5032631820966414)?\n"
     ]
    }
   ],
   "source": [
    "# Guardrail Check on differences in proportions:\n",
    "print('Does the control group proportion ' + str(cont_size/n) + ' lie within ' + str(proportion_confint(n/2, n, .05)) + '?')"
   ]
  },
  {
   "attachments": {},
   "cell_type": "markdown",
   "metadata": {},
   "source": [
    "We've calculated 95% confidence intervals for our p̂_control does not lie within the CI. This means that we've failed our Guardrail Metric. The number of unique users is not equal for each group."
   ]
  },
  {
   "attachments": {},
   "cell_type": "markdown",
   "metadata": {},
   "source": [
    "#### 3. Sample size & minimum detectable effect size"
   ]
  },
  {
   "cell_type": "code",
   "execution_count": 10,
   "metadata": {},
   "outputs": [
    {
     "name": "stdout",
     "output_type": "stream",
     "text": [
      "Sample Size: 388\n"
     ]
    }
   ],
   "source": [
    "# Calculate retention rate mean and std\n",
    "retention_mean = df['retention_1'].mean()  # total_subs_count / total_users_count\n",
    "retention_std = df['retention_1'].std()\n",
    "\n",
    "# # Calculate ratio\n",
    "sizes = [cont_size, test_size]\n",
    "ratio = max(sizes)/ min(sizes)\n",
    "\n",
    "# Setting the parameters and we want to increase the purchase_mean to 0.1 in this experiment\n",
    "effect_size = sms.proportion_effectsize(retention_mean, retention_mean + 0.1)\n",
    "\n",
    "# Initialize analysis and calculate sample size\n",
    "ssresult = pwr.TTestIndPower().solve_power(effect_size, power=0.8, alpha=0.05, nobs1=None, ratio=ratio)\n",
    "print(f'Sample Size: {int(ssresult)}')"
   ]
  },
  {
   "cell_type": "code",
   "execution_count": 11,
   "metadata": {},
   "outputs": [
    {
     "name": "stdout",
     "output_type": "stream",
     "text": [
      "Minimum detectable effect size: 0.2\n"
     ]
    }
   ],
   "source": [
    "# Set parameters for entire dataset: The quantified magnitude of a result present in the population.\n",
    "alpha = 0.05\n",
    "power = 0.8\n",
    "samp_size = int(ssresult)\n",
    "\n",
    "# Initialize analysis & calculate effect size\n",
    "analysis = pwr.TTestIndPower()\n",
    "esresult = analysis.solve_power(effect_size = None, power = power, nobs1 = samp_size, ratio = ratio, alpha = alpha)\n",
    "print(f'Minimum detectable effect size: {round(esresult,2)}')"
   ]
  },
  {
   "attachments": {},
   "cell_type": "markdown",
   "metadata": {},
   "source": [
    "#### 4. Proportional Z test & confidence interval"
   ]
  },
  {
   "cell_type": "code",
   "execution_count": 12,
   "metadata": {},
   "outputs": [
    {
     "name": "stdout",
     "output_type": "stream",
     "text": [
      "H0: Distributions of both populations are equal.\n",
      "H1: Distributions of both populations are not equal.\n",
      "\n",
      "Z test statistic is 1.77334\n",
      "p-value for Z test is 0.038086008036115795\n",
      "\n",
      "p-value=0.038086008036115795<0.05\n",
      "We can reject null hypothesis. These groups are not similar. Users in Gate30 have higher 1 day retention than Gate40\n"
     ]
    }
   ],
   "source": [
    "#returning the total number of conversions for each group:\n",
    "cont_retention_1 = len(df_control.loc[df_control['retention_1']==True])\n",
    "test_retention_1 = len(df_test.loc[df_test['retention_1']==True])\n",
    "successes = [cont_retention_1, test_retention_1]\n",
    "nobs = [cont_size, test_size]\n",
    "z_score, p_value = proportions_ztest(successes, nobs=nobs, alternative='larger', prop_var=0.5)\n",
    "\n",
    "print(\"H0: Distributions of both populations are equal.\")\n",
    "print(\"H1: Distributions of both populations are not equal.\\n\")\n",
    "print(f\"Z test statistic is {z_score.round(5)}\")\n",
    "print(f\"p-value for Z test is {p_value}\\n\")\n",
    "\n",
    "if p_value<alpha:\n",
    "    print(f\"p-value={p_value}<{alpha}\")\n",
    "    print(\"We can reject null hypothesis. These groups are not similar. Users in Gate30 have higher 1 day retention than Gate40\")\n",
    "else:\n",
    "    print(f\"p-value={p_value}>={alpha}\")\n",
    "    print(\"We can't reject null hypothesis. These groups are similar.\")"
   ]
  },
  {
   "cell_type": "code",
   "execution_count": 13,
   "metadata": {},
   "outputs": [
    {
     "name": "stdout",
     "output_type": "stream",
     "text": [
      "z statistic: 1.77\n",
      "p-value: 0.038\n",
      "ci 95% for control group: [0.444, 0.453]\n",
      "ci 95% for treatment group: [0.438, 0.447]\n"
     ]
    }
   ],
   "source": [
    "(lower_con, lower_treat), (upper_con, upper_treat) = proportion_confint(successes, nobs=nobs, alpha=0.05)\n",
    "\n",
    "print(f'z statistic: {z_score:.2f}')\n",
    "print(f'p-value: {p_value:.3f}')\n",
    "print(f'ci 95% for control group: [{lower_con:.3f}, {upper_con:.3f}]')\n",
    "print(f'ci 95% for treatment group: [{lower_treat:.3f}, {upper_treat:.3f}]')"
   ]
  },
  {
   "attachments": {},
   "cell_type": "markdown",
   "metadata": {},
   "source": [
    "#### 5. Bootstrapping"
   ]
  },
  {
   "cell_type": "code",
   "execution_count": 14,
   "metadata": {},
   "outputs": [
    {
     "data": {
      "text/plain": [
       "'100.0%'"
      ]
     },
     "execution_count": 14,
     "metadata": {},
     "output_type": "execute_result"
    },
    {
     "data": {
      "image/png": "[encoded data removed]",
      "text/plain": [
       "<Figure size 640x480 with 1 Axes>"
      ]
     },
     "metadata": {},
     "output_type": "display_data"
    }
   ],
   "source": [
    "# Creating a list with bootstrapped means for each AB-group\n",
    "boot_7d = []\n",
    "for i in range(500):\n",
    "    boot_mean = df.sample(frac=1, replace=True).groupby('version')['retention_7'].mean()\n",
    "    boot_7d.append(boot_mean)\n",
    "    \n",
    "# Transforming the list to a DataFrame\n",
    "boot_7d = pd.DataFrame(boot_7d, columns=['gate_30', 'gate_40'])\n",
    "# Adding a column with the % difference between the two AB-groups\n",
    "boot_7d['diff'] = ((boot_7d['gate_30'] - boot_7d['gate_40'])/boot_7d['gate_40'])* 100\n",
    "# Ploting the bootstrap % difference\n",
    "ax = boot_7d['diff'].plot(kind='kde')\n",
    "ax.set_xlabel(\"% difference in means\")\n",
    "# Calculating the probability that 7-day retention is greater when the gate is at level 30\n",
    "prob = (boot_7d['diff'] > 0 ).mean()\n",
    "# Pretty printing the probability\n",
    "'{:.1%}'.format(prob)"
   ]
  },
  {
   "cell_type": "code",
   "execution_count": 15,
   "metadata": {},
   "outputs": [
    {
     "data": {
      "image/png": "[encoded data removed]",
      "text/plain": [
       "<Figure size 640x480 with 1 Axes>"
      ]
     },
     "metadata": {},
     "output_type": "display_data"
    }
   ],
   "source": [
    "# A Kernel Density Estimate plot of the bootstrap distributions\n",
    "boot_7d[['gate_30', 'gate_40']].plot(kind = 'kde')\n",
    "plt.show()"
   ]
  }
 ],
 "metadata": {
  "kernelspec": {
   "display_name": "projectVenv",
   "language": "python",
   "name": "python3"
  },
  "language_info": {
   "codemirror_mode": {
    "name": "ipython",
    "version": 3
   },
   "file_extension": ".py",
   "mimetype": "text/x-python",
   "name": "python",
   "nbconvert_exporter": "python",
   "pygments_lexer": "ipython3",
   "version": "3.9.13"
  },
  "orig_nbformat": 4
 },
 "nbformat": 4,
 "nbformat_minor": 2
}
