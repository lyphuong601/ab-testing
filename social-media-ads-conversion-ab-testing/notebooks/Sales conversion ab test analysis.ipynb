{
 "cells": [
  {
   "attachments": {},
   "cell_type": "markdown",
   "metadata": {},
   "source": [
    "## A/B Testing for Sales Conversion\n",
    "\n",
    "#### 1. Import package and load data"
   ]
  },
  {
   "cell_type": "code",
   "execution_count": 1,
   "metadata": {},
   "outputs": [],
   "source": [
    "import pandas as pd\n",
    "import matplotlib.pyplot as plt\n",
    "import seaborn as sns\n",
    "import numpy as np\n",
    "from statsmodels.stats import power as pwr\n",
    "from statsmodels.stats.proportion import proportion_confint, proportions_ztest, proportion_effectsize\n",
    "from scipy.stats import shapiro, levene, ttest_ind, mannwhitneyu\n",
    "from sklearn.impute import KNNImputer"
   ]
  },
  {
   "cell_type": "code",
   "execution_count": 2,
   "metadata": {},
   "outputs": [
    {
     "data": {
      "text/html": [
       "<div>\n",
       "<style scoped>\n",
       "    .dataframe tbody tr th:only-of-type {\n",
       "        vertical-align: middle;\n",
       "    }\n",
       "\n",
       "    .dataframe tbody tr th {\n",
       "        vertical-align: top;\n",
       "    }\n",
       "\n",
       "    .dataframe thead th {\n",
       "        text-align: right;\n",
       "    }\n",
       "</style>\n",
       "<table border=\"1\" class=\"dataframe\">\n",
       "  <thead>\n",
       "    <tr style=\"text-align: right;\">\n",
       "      <th></th>\n",
       "      <th>ad_id</th>\n",
       "      <th>xyz_campaign_id</th>\n",
       "      <th>fb_campaign_id</th>\n",
       "      <th>age</th>\n",
       "      <th>gender</th>\n",
       "      <th>interest</th>\n",
       "      <th>Impressions</th>\n",
       "      <th>Clicks</th>\n",
       "      <th>Spent</th>\n",
       "      <th>Total_Conversion</th>\n",
       "      <th>Approved_Conversion</th>\n",
       "    </tr>\n",
       "  </thead>\n",
       "  <tbody>\n",
       "    <tr>\n",
       "      <th>0</th>\n",
       "      <td>708746</td>\n",
       "      <td>916</td>\n",
       "      <td>103916</td>\n",
       "      <td>30-34</td>\n",
       "      <td>M</td>\n",
       "      <td>15</td>\n",
       "      <td>7350</td>\n",
       "      <td>1</td>\n",
       "      <td>1.43</td>\n",
       "      <td>2</td>\n",
       "      <td>1</td>\n",
       "    </tr>\n",
       "    <tr>\n",
       "      <th>1</th>\n",
       "      <td>708749</td>\n",
       "      <td>916</td>\n",
       "      <td>103917</td>\n",
       "      <td>30-34</td>\n",
       "      <td>M</td>\n",
       "      <td>16</td>\n",
       "      <td>17861</td>\n",
       "      <td>2</td>\n",
       "      <td>1.82</td>\n",
       "      <td>2</td>\n",
       "      <td>0</td>\n",
       "    </tr>\n",
       "    <tr>\n",
       "      <th>2</th>\n",
       "      <td>708771</td>\n",
       "      <td>916</td>\n",
       "      <td>103920</td>\n",
       "      <td>30-34</td>\n",
       "      <td>M</td>\n",
       "      <td>20</td>\n",
       "      <td>693</td>\n",
       "      <td>0</td>\n",
       "      <td>0.00</td>\n",
       "      <td>1</td>\n",
       "      <td>0</td>\n",
       "    </tr>\n",
       "    <tr>\n",
       "      <th>3</th>\n",
       "      <td>708815</td>\n",
       "      <td>916</td>\n",
       "      <td>103928</td>\n",
       "      <td>30-34</td>\n",
       "      <td>M</td>\n",
       "      <td>28</td>\n",
       "      <td>4259</td>\n",
       "      <td>1</td>\n",
       "      <td>1.25</td>\n",
       "      <td>1</td>\n",
       "      <td>0</td>\n",
       "    </tr>\n",
       "    <tr>\n",
       "      <th>4</th>\n",
       "      <td>708818</td>\n",
       "      <td>916</td>\n",
       "      <td>103928</td>\n",
       "      <td>30-34</td>\n",
       "      <td>M</td>\n",
       "      <td>28</td>\n",
       "      <td>4133</td>\n",
       "      <td>1</td>\n",
       "      <td>1.29</td>\n",
       "      <td>1</td>\n",
       "      <td>1</td>\n",
       "    </tr>\n",
       "  </tbody>\n",
       "</table>\n",
       "</div>"
      ],
      "text/plain": [
       "    ad_id  xyz_campaign_id  fb_campaign_id    age gender  interest  \\\n",
       "0  708746              916          103916  30-34      M        15   \n",
       "1  708749              916          103917  30-34      M        16   \n",
       "2  708771              916          103920  30-34      M        20   \n",
       "3  708815              916          103928  30-34      M        28   \n",
       "4  708818              916          103928  30-34      M        28   \n",
       "\n",
       "   Impressions  Clicks  Spent  Total_Conversion  Approved_Conversion  \n",
       "0         7350       1   1.43                 2                    1  \n",
       "1        17861       2   1.82                 2                    0  \n",
       "2          693       0   0.00                 1                    0  \n",
       "3         4259       1   1.25                 1                    0  \n",
       "4         4133       1   1.29                 1                    1  "
      ]
     },
     "execution_count": 2,
     "metadata": {},
     "output_type": "execute_result"
    }
   ],
   "source": [
    "df = pd.read_csv(\"../data/raw/KAG_conversion_data.csv\")\n",
    "df.head()"
   ]
  },
  {
   "cell_type": "code",
   "execution_count": 3,
   "metadata": {},
   "outputs": [
    {
     "name": "stdout",
     "output_type": "stream",
     "text": [
      "1. Shape of dataset: (1143, 11)\n",
      "2. Columns datatype: \n",
      "int64\t| ad_id, xyz_campaign_id, fb_campaign_id, interest, Impressions, Clicks, Total_Conversion, Approved_Conversion, \n",
      "float64\t| Spent, \n",
      "object\t| age, gender, \n"
     ]
    }
   ],
   "source": [
    "def data_overview():\n",
    "    # print('1. Data description: ')\n",
    "    # print(df.describe(include='all'))  # Description of dataset\n",
    "    print(f'1. Shape of dataset: {df.shape}')\n",
    "    print('2. Columns datatype: ')\n",
    "    for group, column in df.columns.to_series().groupby(df.dtypes):  # Datatype of each column\n",
    "        print(group, end='\\t| ')\n",
    "        for name in column:\n",
    "            print(name, end=', ')\n",
    "        print()\n",
    "    \n",
    "data_overview()"
   ]
  },
  {
   "cell_type": "markdown",
   "metadata": {},
   "source": [
    "#### 2. Clean data"
   ]
  },
  {
   "cell_type": "code",
   "execution_count": 4,
   "metadata": {},
   "outputs": [
    {
     "name": "stdout",
     "output_type": "stream",
     "text": [
      "The number of 0-values in Clicks (given that Conversion are non-zero): 204\n"
     ]
    }
   ],
   "source": [
    "print(\"The number of 0-values in Clicks (given that Conversion are non-zero):\", len(df[(df[\"Clicks\"] == 0) & (df[\"Total_Conversion\"] != 0)]))\n",
    "df[\"Clicks\"].replace(0, np.nan, inplace=True)\n",
    "\n",
    "imputer = KNNImputer(n_neighbors=2)\n",
    "df_imputed = pd.DataFrame(imputer.fit_transform(df.drop(columns=[\"gender\", \"age\"])))\n",
    "\n",
    "df[\"Clicks\"] = df_imputed[5]"
   ]
  },
  {
   "cell_type": "code",
   "execution_count": 5,
   "metadata": {},
   "outputs": [
    {
     "data": {
      "text/plain": [
       "array(['916', '936', '1178'], dtype=object)"
      ]
     },
     "execution_count": 5,
     "metadata": {},
     "output_type": "execute_result"
    }
   ],
   "source": [
    "df['xyz_campaign_id'] = df['xyz_campaign_id'].astype('str')\n",
    "df['xyz_campaign_id'].unique()"
   ]
  },
  {
   "cell_type": "code",
   "execution_count": 6,
   "metadata": {},
   "outputs": [],
   "source": [
    "df.drop(['ad_id', 'fb_campaign_id'], axis='columns', inplace=True)\n",
    "df['CPC']=df['Spent']/df['Clicks']\n",
    "df['CTR']=df['Clicks']/df['Impressions']\n",
    "# df['converted']=df['Total_Conversion']/df['Impressions']"
   ]
  },
  {
   "cell_type": "code",
   "execution_count": 7,
   "metadata": {},
   "outputs": [
    {
     "data": {
      "text/plain": [
       "xyz_campaign_id        0.0\n",
       "age                    0.0\n",
       "gender                 0.0\n",
       "interest               0.0\n",
       "Impressions            0.0\n",
       "Clicks                 0.0\n",
       "Spent                  0.0\n",
       "Total_Conversion       0.0\n",
       "Approved_Conversion    0.0\n",
       "CPC                    0.0\n",
       "CTR                    0.0\n",
       "dtype: float64"
      ]
     },
     "execution_count": 7,
     "metadata": {},
     "output_type": "execute_result"
    }
   ],
   "source": [
    "def check_missing_data(data: pd.DataFrame) -> pd.Series:\n",
    "    \"\"\"Check for missing data in the df (display in descending order)\"\"\"\n",
    "    result = ((data.isnull().sum() * 100)/ len(data)).sort_values(ascending=False)\n",
    "    return result\n",
    "\n",
    "check_missing_data(df)"
   ]
  },
  {
   "attachments": {},
   "cell_type": "markdown",
   "metadata": {},
   "source": [
    "#### 3. Treatment and control group & guardrail check"
   ]
  },
  {
   "cell_type": "code",
   "execution_count": 41,
   "metadata": {},
   "outputs": [],
   "source": [
    "df_control = df.loc[df['xyz_campaign_id']=='1178']\n",
    "df_test = df[df['xyz_campaign_id']=='936']\n",
    "cont_size = len(df_control['xyz_campaign_id'])\n",
    "test_size = len(df_test['xyz_campaign_id'])\n",
    "n = len(df)"
   ]
  },
  {
   "cell_type": "code",
   "execution_count": 50,
   "metadata": {},
   "outputs": [
    {
     "name": "stdout",
     "output_type": "stream",
     "text": [
      "Does the control group proportion 0.5468066491688539 lie within (0.471013553334954, 0.528986446665046)?\n"
     ]
    }
   ],
   "source": [
    "# Guardrail Check on differences in proportions:\n",
    "print('Does the control group proportion ' + str(cont_size/n) + ' lie within ' + str(proportion_confint(n/2, n, .05)) + '?')"
   ]
  },
  {
   "attachments": {},
   "cell_type": "markdown",
   "metadata": {},
   "source": [
    "We've calculated 95% confidence intervals for our $\\widehat{p_{control}}$ does not lie within the CI. This means that we've failed our Guardrail Metric. The number of unique users is not equal for each group."
   ]
  },
  {
   "attachments": {},
   "cell_type": "markdown",
   "metadata": {},
   "source": [
    "#### 4. Sample size & minimum detectable effect size"
   ]
  },
  {
   "cell_type": "code",
   "execution_count": 10,
   "metadata": {},
   "outputs": [
    {
     "name": "stdout",
     "output_type": "stream",
     "text": [
      "Sample Size: 36\n"
     ]
    }
   ],
   "source": [
    "# Calculate retention rate mean and std\n",
    "# retention_mean = df['CTR'].mean()  # total_subs_count / total_users_count\n",
    "retention_mean = df_control[\"Clicks\"].mean() / df_control[\"Impressions\"].mean()\n",
    "\n",
    "# # Calculate ratio\n",
    "sizes = [cont_size, test_size]\n",
    "ratio = max(sizes)/ min(sizes)\n",
    "\n",
    "# Setting the parameters and we want to increase the purchase_mean to 0.1 in this experiment\n",
    "effect_size = proportion_effectsize(retention_mean, retention_mean + 0.1)\n",
    "\n",
    "# Initialize analysis and calculate sample size\n",
    "ssresult = pwr.TTestIndPower().solve_power(effect_size, power=0.8, alpha=0.05, nobs1=None, ratio=ratio)\n",
    "print(f'Sample Size: {int(ssresult)}')"
   ]
  },
  {
   "cell_type": "code",
   "execution_count": 11,
   "metadata": {},
   "outputs": [
    {
     "name": "stdout",
     "output_type": "stream",
     "text": [
      "Minimum detectable effect size: 0.62\n"
     ]
    }
   ],
   "source": [
    "# Set parameters for entire dataset: The quantified magnitude of a result present in the population.\n",
    "alpha = 0.05\n",
    "power = 0.8\n",
    "samp_size = int(ssresult)\n",
    "\n",
    "# Initialize analysis & calculate effect size\n",
    "analysis = pwr.TTestIndPower()\n",
    "esresult = analysis.solve_power(effect_size = None, power = power, nobs1 = samp_size, ratio = ratio, alpha = alpha)\n",
    "print(f'Minimum detectable effect size: {round(esresult,2)}')"
   ]
  },
  {
   "attachments": {},
   "cell_type": "markdown",
   "metadata": {},
   "source": [
    "#### 5. Proportional Z test & confidence interval\n",
    "A two proportion Z-test is employed to examine any disparities between the proportions of two populations.\n",
    "\n",
    "Two Proportion Z-Test Formula (left-tailed):\n",
    "Hypothesis:\n",
    "* $H_0: p_1 > p_2$\n",
    "* $H_1: p_1 < p_2$\n",
    "\n",
    "The test statistic z:\n",
    "$z = \\dfrac{p_1 - p_2}{\\sqrt{p_{pool}(1-p_{pool})(\\dfrac{1}{n_1} + \\dfrac{1}{n_2})}}$\n",
    "where $p_1$ and $p_2$ are the sample proportions, $n_1$ and $n_2$ are the sample sizes,\n",
    "and where p is the total pooled proportion calculated as: $p_{pool} = \\dfrac{(p_1 \\cdot n_1 + p_2 \\cdot n_2)}{(n_1+n_2)}$\n",
    "\n",
    "When the p-value associated with the test statistic Z is less than the selected significance level of 0.05, we reject the null hypothesis."
   ]
  },
  {
   "cell_type": "code",
   "execution_count": 30,
   "metadata": {},
   "outputs": [
    {
     "name": "stdout",
     "output_type": "stream",
     "text": [
      "Click through rate\n",
      "\tControl group: 0.000176\n",
      "\tTreatment group: 0.000268\n"
     ]
    }
   ],
   "source": [
    "ctr_control = df_control[\"Clicks\"].sum() / df_control[\"Impressions\"].sum()\n",
    "ctr_test = df_test[\"Clicks\"].sum() / df_test[\"Impressions\"].sum()\n",
    "print(f'Click through rate:\\n\\tControl group: {ctr_control:.6f}')\n",
    "print(f'\\tTreatment group: {ctr_test:.6f}')"
   ]
  },
  {
   "cell_type": "code",
   "execution_count": 13,
   "metadata": {},
   "outputs": [
    {
     "name": "stdout",
     "output_type": "stream",
     "text": [
      "H0: Distributions of both populations are equal.\n",
      "H1: Distributions of both populations are not equal.\n",
      "\n",
      "Z test statistic is -19.071\n",
      "p-value for Z test is 0.000\n",
      "\n",
      "p-value = 0.000 < 0.05\n",
      "We can reject null hypothesis. These groups are not similar. Users in Gate30 have higher 1 day retention than Gate40\n"
     ]
    }
   ],
   "source": [
    "#returning the total number of conversions for each group:\n",
    "clicks = np.array([df_control[\"Clicks\"].sum(), df_test[\"Clicks\"].sum()])\n",
    "impressions = np.array([df_control[\"Impressions\"].sum(), df_test[\"Impressions\"].sum()])\n",
    "\n",
    "test_stat, p_value = proportions_ztest(count=clicks, nobs=impressions, alternative=\"smaller\")\n",
    "\n",
    "print(\"H0: Distributions of both populations are equal.\")\n",
    "print(\"H1: Distributions of both populations are not equal.\\n\")\n",
    "print(f\"Z test statistic is {test_stat:.3f}\")\n",
    "print(f\"p-value for Z test is {p_value:.3f}\\n\")\n",
    "\n",
    "if p_value<alpha:\n",
    "    print(f\"p-value = {p_value:.3f} < {alpha}\")\n",
    "    print(\"We can reject null hypothesis. These groups are not similar. Users in Gate30 have higher 1 day retention than Gate40\")\n",
    "else:\n",
    "    print(f\"p-value = {p_value:.3f} >= {alpha}\")\n",
    "    print(\"We can't reject null hypothesis. These groups are similar.\")"
   ]
  },
  {
   "cell_type": "code",
   "execution_count": 25,
   "metadata": {},
   "outputs": [
    {
     "name": "stdout",
     "output_type": "stream",
     "text": [
      "z statistic: -19.071\n",
      "p-value: 0.000\n",
      "ci 95% for control group: [0.000174, 0.000178]\n",
      "ci 95% for treatment group: [0.000256, 0.000279]\n"
     ]
    }
   ],
   "source": [
    "(lower_con, lower_treat), (upper_con, upper_treat) = proportion_confint(count=clicks, nobs=impressions, alpha=0.05)\n",
    "\n",
    "print(f'z statistic: {test_stat:.3f}')\n",
    "print(f'p-value: {p_value:.3f}')\n",
    "print(f'ci 95% for control group: [{lower_con:.6f}, {upper_con:.6f}]')\n",
    "print(f'ci 95% for treatment group: [{lower_treat:.6f}, {upper_treat:.6f}]')"
   ]
  },
  {
   "cell_type": "markdown",
   "metadata": {},
   "source": [
    "#### 6. Cost per click"
   ]
  },
  {
   "cell_type": "code",
   "execution_count": 15,
   "metadata": {},
   "outputs": [],
   "source": [
    "def hypothesis_result(df_A, df_B, col_name):\n",
    "    test_stat_A, pvalue_A = shapiro(df_A[col_name])\n",
    "    print('Shapiro Test Stat = %.4f, p-value = %.4f' % (test_stat_A, pvalue_A))\n",
    "\n",
    "    test_stat_B, pvalue_B = shapiro(df_B[col_name])\n",
    "    print('Shapiro Test Stat = %.4f, p-value = %.4f' % (test_stat_B, pvalue_B))\n",
    "\n",
    "    test_stat_var, pvalue_var = levene(df_A[col_name], df_B[col_name])\n",
    "    print('Levene Test Stat = %.4f, p-value = %.4f' % (test_stat_var, pvalue_var))\n",
    "\n",
    "    if pvalue_A < 0.05 and pvalue_B < 0.05:\n",
    "        test_stat, pvalue = mannwhitneyu(df_A[col_name], df_B[col_name])\n",
    "\n",
    "        print('Mannwhitneye Test Stat = %.4f, p-value = %.4f' % (test_stat, pvalue))\n",
    "        print(f'H0 hypothesis {\"NOT REJECTED\" if pvalue > 0.05 else \"REJECTED\"}')\n",
    "    else:\n",
    "        test_stat, pvalue = ttest_ind(df_A[col_name], df_B[col_name], equal_var=(True if pvalue_var > 0.05 else False))\n",
    "\n",
    "        print('Ttest Test Stat = %.4f, p-value = %.4f' % (test_stat, pvalue))\n",
    "        print(f'H0 hypothesis {\"NOT REJECTED\" if pvalue > 0.05 else \"REJECTED\"}')"
   ]
  },
  {
   "cell_type": "code",
   "execution_count": 31,
   "metadata": {},
   "outputs": [
    {
     "name": "stdout",
     "output_type": "stream",
     "text": [
      "Cost per click (mean):\n",
      " \t Control group:1.542302\n",
      "\t Treatment group: 0.846742\n",
      "-------------------\n",
      "Shapiro Test Stat = 0.7064, p-value = 0.0000\n",
      "Shapiro Test Stat = 0.7840, p-value = 0.0000\n",
      "Levene Test Stat = 454.0077, p-value = 0.0000\n",
      "Mannwhitneye Test Stat = 239584.0000, p-value = 0.0000\n",
      "H0 hypothesis REJECTED\n"
     ]
    }
   ],
   "source": [
    "print(f'Cost per click (mean):\\n \\t Control group:{df_control[\"CPC\"].mean():.6f}')\n",
    "print(f'\\t Treatment group: {df_test[\"CPC\"].mean():.6f}')\n",
    "\n",
    "print('-------------------')\n",
    "\n",
    "hypothesis_result(df_control, df_test, 'CPC')"
   ]
  },
  {
   "attachments": {},
   "cell_type": "markdown",
   "metadata": {},
   "source": [
    "#### 7. Bootstrapping"
   ]
  },
  {
   "cell_type": "code",
   "execution_count": 53,
   "metadata": {},
   "outputs": [
    {
     "name": "stdout",
     "output_type": "stream",
     "text": [
      "100.0%\n"
     ]
    },
    {
     "data": {
      "image/png": "[encoded data removed]",
      "text/plain": [
       "<Figure size 640x480 with 1 Axes>"
      ]
     },
     "metadata": {},
     "output_type": "display_data"
    }
   ],
   "source": [
    "# create a list with bootstrapped means for each group\n",
    "boot_df = []\n",
    "for i in range(500):\n",
    "    boot_mean = df.sample(frac=1, replace=True).groupby('xyz_campaign_id')['CTR'].mean()\n",
    "    boot_df.append(boot_mean)\n",
    "    \n",
    "boot_df = pd.DataFrame(boot_df, columns=['1178', '936'])  # transform the list to a DataFrame\n",
    "boot_df['diff'] = ((boot_df['1178'] - boot_df['936'])/boot_df['936']) * 100  # add a column with % difference between two groups\n",
    "ax = boot_df['diff'].plot(kind='kde')  # plot the bootstrap % difference\n",
    "ax.set_title(\"The bootstrap % difference\")\n",
    "ax.set_xlabel(\"% difference in means\")\n",
    "\n",
    "prob = (boot_df['diff'] < -0.62).mean()  # calculate the probability that control mean is smaller than treatment mean\n",
    "print(f'{prob:.1%}')  # print the probability"
   ]
  },
  {
   "cell_type": "code",
   "execution_count": 65,
   "metadata": {},
   "outputs": [
    {
     "data": {
      "image/png": "[encoded data removed]",
      "text/plain": [
       "<Figure size 640x480 with 1 Axes>"
      ]
     },
     "metadata": {},
     "output_type": "display_data"
    }
   ],
   "source": [
    "# plot of the bootstrap distributions\n",
    "ax = boot_df[['1178', '936']].plot(kind = 'kde')\n",
    "ax.set_xlabel('Mean')\n",
    "ax.set_title(\"The boostrap mean distribution\")\n",
    "ax.legend(['control', 'treatment'])\n",
    "plt.show()"
   ]
  }
 ],
 "metadata": {
  "kernelspec": {
   "display_name": "projectVenv",
   "language": "python",
   "name": "python3"
  },
  "language_info": {
   "codemirror_mode": {
    "name": "ipython",
    "version": 3
   },
   "file_extension": ".py",
   "mimetype": "text/x-python",
   "name": "python",
   "nbconvert_exporter": "python",
   "pygments_lexer": "ipython3",
   "version": "3.9.13"
  },
  "orig_nbformat": 4
 },
 "nbformat": 4,
 "nbformat_minor": 2
}
